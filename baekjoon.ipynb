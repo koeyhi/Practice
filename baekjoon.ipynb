{
 "cells": [
  {
   "cell_type": "code",
   "execution_count": 1,
   "metadata": {},
   "outputs": [
    {
     "name": "stdout",
     "output_type": "stream",
     "text": [
      "         ,r'\"7\n",
      "r`-_   ,'  ,/\n",
      " \\. \". L_r'\n",
      "   `~\\/\n",
      "      |\n",
      "      |\n"
     ]
    }
   ],
   "source": [
    "print(\"         ,r'\\\"7\\nr`-_   ,'  ,/\\n \\\\. \\\". L_r'\\n   `~\\\\/\\n      |\\n      |\")"
   ]
  },
  {
   "cell_type": "markdown",
   "metadata": {},
   "source": [
    "3003"
   ]
  },
  {
   "cell_type": "code",
   "execution_count": 9,
   "metadata": {},
   "outputs": [
    {
     "name": "stdout",
     "output_type": "stream",
     "text": [
      "-1 0 0 1 0 7\n"
     ]
    }
   ],
   "source": [
    "pieces = input().split()\n",
    "needs = [1, 1, 2, 2, 2, 8]\n",
    "lst = [n - int(p) for p, n in zip(pieces, needs)]\n",
    "print(*lst)"
   ]
  },
  {
   "cell_type": "markdown",
   "metadata": {},
   "source": [
    "2444"
   ]
  },
  {
   "cell_type": "code",
   "execution_count": 22,
   "metadata": {},
   "outputs": [
    {
     "name": "stdout",
     "output_type": "stream",
     "text": [
      "     *\n",
      "    ***\n",
      "   *****\n",
      "  *******\n",
      " *********\n",
      "***********\n",
      " *********\n",
      "  *******\n",
      "   *****\n",
      "    ***\n",
      "     *\n"
     ]
    }
   ],
   "source": [
    "N = int(input())\n",
    "\n",
    "for i in range(1, 2 * N):\n",
    "    if i < N:\n",
    "        print(\" \" * (N - i) + \"*\" * (2 * i - 1))\n",
    "    else:\n",
    "        print(\" \" * (i - N) + \"*\" * (2 * (2 * N - i) - 1))"
   ]
  },
  {
   "cell_type": "markdown",
   "metadata": {},
   "source": [
    "10988"
   ]
  },
  {
   "cell_type": "code",
   "execution_count": 4,
   "metadata": {},
   "outputs": [
    {
     "name": "stdout",
     "output_type": "stream",
     "text": [
      "0\n"
     ]
    }
   ],
   "source": [
    "w = input()\n",
    "print(1 if w[:] == w[::-1] else 0)"
   ]
  },
  {
   "cell_type": "markdown",
   "metadata": {},
   "source": [
    "1157"
   ]
  },
  {
   "cell_type": "code",
   "execution_count": 15,
   "metadata": {},
   "outputs": [
    {
     "name": "stdout",
     "output_type": "stream",
     "text": [
      "C\n"
     ]
    }
   ],
   "source": [
    "w = input().upper()\n",
    "max_count = 0\n",
    "\n",
    "for char in set(w):\n",
    "    count = w.count(char)\n",
    "    if count > max_count:\n",
    "        max_count = count\n",
    "        max_char = char\n",
    "    elif count == max_count:\n",
    "        max_char = \"?\"\n",
    "\n",
    "print(max_char)"
   ]
  },
  {
   "cell_type": "markdown",
   "metadata": {},
   "source": [
    "2941"
   ]
  },
  {
   "cell_type": "code",
   "execution_count": 2,
   "metadata": {},
   "outputs": [
    {
     "name": "stdout",
     "output_type": "stream",
     "text": [
      "3\n"
     ]
    }
   ],
   "source": [
    "ca = [\"c=\", \"c-\", \"dz=\", \"d-\", \"lj\", \"nj\", \"s=\", \"z=\"]\n",
    "word = input()\n",
    "\n",
    "for w in ca:\n",
    "    word = word.replace(w, \"X\")\n",
    "\n",
    "print(len(word))"
   ]
  },
  {
   "cell_type": "markdown",
   "metadata": {},
   "source": [
    "1316"
   ]
  },
  {
   "cell_type": "code",
   "execution_count": 8,
   "metadata": {},
   "outputs": [
    {
     "name": "stdout",
     "output_type": "stream",
     "text": [
      "3\n"
     ]
    }
   ],
   "source": [
    "n = int(input())\n",
    "count = 0\n",
    "\n",
    "for _ in range(n):\n",
    "    word = input().strip()\n",
    "    if list(word) == sorted(word, key=word.find):\n",
    "        count += 1\n",
    "\n",
    "print(count)"
   ]
  },
  {
   "cell_type": "markdown",
   "metadata": {},
   "source": [
    "25206"
   ]
  },
  {
   "cell_type": "code",
   "execution_count": 1,
   "metadata": {},
   "outputs": [
    {
     "ename": "ValueError",
     "evalue": "not enough values to unpack (expected 3, got 0)",
     "output_type": "error",
     "traceback": [
      "\u001b[1;31m---------------------------------------------------------------------------\u001b[0m",
      "\u001b[1;31mValueError\u001b[0m                                Traceback (most recent call last)",
      "Cell \u001b[1;32mIn[1], line 17\u001b[0m\n\u001b[0;32m     14\u001b[0m total_score \u001b[38;5;241m=\u001b[39m \u001b[38;5;241m0\u001b[39m\n\u001b[0;32m     16\u001b[0m \u001b[38;5;28;01mfor\u001b[39;00m i \u001b[38;5;129;01min\u001b[39;00m \u001b[38;5;28mrange\u001b[39m(\u001b[38;5;241m20\u001b[39m):\n\u001b[1;32m---> 17\u001b[0m     subject, score, grade \u001b[38;5;241m=\u001b[39m \u001b[38;5;28minput\u001b[39m()\u001b[38;5;241m.\u001b[39msplit()\n\u001b[0;32m     18\u001b[0m     \u001b[38;5;28;01mif\u001b[39;00m grade \u001b[38;5;241m==\u001b[39m \u001b[38;5;124m'\u001b[39m\u001b[38;5;124mP\u001b[39m\u001b[38;5;124m'\u001b[39m:\n\u001b[0;32m     19\u001b[0m         \u001b[38;5;28;01mcontinue\u001b[39;00m\n",
      "\u001b[1;31mValueError\u001b[0m: not enough values to unpack (expected 3, got 0)"
     ]
    }
   ],
   "source": [
    "grade_std = {\n",
    "    \"A+\": 4.5,\n",
    "    \"A0\": 4.0,\n",
    "    \"B+\": 3.5,\n",
    "    \"B0\": 3.0,\n",
    "    \"C+\": 2.5,\n",
    "    \"C0\": 2.0,\n",
    "    \"D+\": 1.5,\n",
    "    \"D0\": 1.0,\n",
    "    \"F\": 0.0,\n",
    "}\n",
    "sum_score, total_score = 0, 0\n",
    "\n",
    "for _ in range(20):\n",
    "    _, score, grade = input().split()\n",
    "    if grade != \"P\":\n",
    "        score = float(score)\n",
    "        total_score += score\n",
    "        sum_score += grade_std[grade] * score\n",
    "\n",
    "print(sum_score / total_score)"
   ]
  },
  {
   "cell_type": "markdown",
   "metadata": {},
   "source": [
    "2738"
   ]
  },
  {
   "cell_type": "code",
   "execution_count": 12,
   "metadata": {},
   "outputs": [
    {
     "name": "stdout",
     "output_type": "stream",
     "text": [
      "10 10 10\n",
      "10 10 10\n",
      "10 10 10\n"
     ]
    }
   ],
   "source": [
    "n, m = map(int, input().split())\n",
    "\n",
    "matrix1 = [list(map(int, input().split())) for _ in range(n)]\n",
    "\n",
    "for i in range(n):\n",
    "    matrix2 = list(map(int, input().split()))\n",
    "    result = [matrix1[i][j] + matrix2[j] for j in range(m)]\n",
    "    print(\" \".join(map(str, result)))"
   ]
  },
  {
   "cell_type": "markdown",
   "metadata": {},
   "source": [
    "2566"
   ]
  },
  {
   "cell_type": "code",
   "execution_count": 12,
   "metadata": {},
   "outputs": [
    {
     "name": "stdout",
     "output_type": "stream",
     "text": [
      "90\n",
      "4 6\n"
     ]
    }
   ],
   "source": [
    "mat = [list(map(int, input().split())) for _ in range(9)]\n",
    "max_num = max(max(row) for row in mat)\n",
    "max_row, max_col = [\n",
    "    (i, row.index(max_num)) for i, row in enumerate(mat) if max_num in row\n",
    "][0]\n",
    "\n",
    "print(max_num)\n",
    "print(max_row + 1, max_col + 1)"
   ]
  },
  {
   "cell_type": "markdown",
   "metadata": {},
   "source": [
    "10798"
   ]
  },
  {
   "cell_type": "code",
   "execution_count": 1,
   "metadata": {},
   "outputs": [
    {
     "name": "stdout",
     "output_type": "stream",
     "text": [
      "Aa0FfBb1GgCc2HhDd3IiEe4Jj\n"
     ]
    }
   ],
   "source": [
    "result = \"\"\n",
    "str_list = [input() for _ in range(5)]\n",
    "\n",
    "for i in range(len(max(str_list, key=len))):\n",
    "    for j in range(5):\n",
    "        try:\n",
    "            result += str_list[j][i]\n",
    "        except IndexError:\n",
    "            continue\n",
    "\n",
    "print(result)"
   ]
  },
  {
   "cell_type": "markdown",
   "metadata": {},
   "source": [
    "2563"
   ]
  },
  {
   "cell_type": "code",
   "execution_count": 5,
   "metadata": {},
   "outputs": [
    {
     "name": "stdout",
     "output_type": "stream",
     "text": [
      "100\n"
     ]
    }
   ],
   "source": [
    "paper = [[0] * 100 for _ in range(100)]\n",
    "\n",
    "for _ in range(int(input())):\n",
    "    x, y = map(int, input().split())\n",
    "    for i in range(x, x + 10):\n",
    "        for j in range(y, y + 10):\n",
    "            paper[j][i] = 1\n",
    "\n",
    "print(sum([sum(row) for row in paper]))"
   ]
  },
  {
   "cell_type": "markdown",
   "metadata": {},
   "source": [
    "2745"
   ]
  },
  {
   "cell_type": "code",
   "execution_count": 1,
   "metadata": {},
   "outputs": [
    {
     "name": "stdout",
     "output_type": "stream",
     "text": [
      "60466175\n"
     ]
    }
   ],
   "source": [
    "N, B = input().split()\n",
    "B = int(B)\n",
    "print(int(N, B))  # int('문자열', 진수로 사용할 값)"
   ]
  },
  {
   "cell_type": "markdown",
   "metadata": {},
   "source": [
    "11005"
   ]
  },
  {
   "cell_type": "code",
   "execution_count": 13,
   "metadata": {},
   "outputs": [
    {
     "name": "stdout",
     "output_type": "stream",
     "text": [
      "4GO3\n"
     ]
    }
   ],
   "source": [
    "N, B = map(int, input().split())\n",
    "digits = \"0123456789ABCDEFGHIJKLMNOPQRSTUVWXYZ\"\n",
    "result = []\n",
    "\n",
    "if N == 0:\n",
    "    result.append(0)\n",
    "\n",
    "while N:\n",
    "    result.append(digits[N % B])  # 10진수를 B진법 수로 변환\n",
    "    N //= B\n",
    "\n",
    "print(\"\".join(result[::-1]))\n",
    "\n",
    "# N, B = map(int, input().split())\n",
    "# result = ''\n",
    "# digits = \"0123456789ABCDEFGHIJKLMNOPQRSTUVWXYZ\"\n",
    "# while N:\n",
    "#     result = digits[N % B] + result\n",
    "#     N //= B\n",
    "# print(result or '0')"
   ]
  },
  {
   "cell_type": "markdown",
   "metadata": {},
   "source": [
    "2720"
   ]
  },
  {
   "cell_type": "code",
   "execution_count": 22,
   "metadata": {},
   "outputs": [
    {
     "name": "stdout",
     "output_type": "stream",
     "text": [
      "49 2 0 0\n",
      "4 2 0 3\n",
      "4 2 0 3\n"
     ]
    }
   ],
   "source": [
    "T = int(input())\n",
    "\n",
    "for _ in range(T):\n",
    "    cent = int(input())\n",
    "    change = []\n",
    "    for ch in [25, 10, 5, 1]:\n",
    "        change.append(cent // ch)\n",
    "        cent %= ch\n",
    "    print(\" \".join(map(str, change)))\n",
    "\n",
    "# T = int(input())\n",
    "# cent = []\n",
    "\n",
    "# for i in range(T):\n",
    "#     cent.append(int(input()))\n",
    "\n",
    "# for x in cent:\n",
    "#     change = []\n",
    "#     change.append(x // 25)\n",
    "#     x %= 25\n",
    "#     change.append(x // 10)\n",
    "#     x %= 10\n",
    "#     change.append(x // 5)\n",
    "#     x %= 5\n",
    "#     change.append(x // 1)\n",
    "#     print(' '.join(map(str, change)))"
   ]
  },
  {
   "cell_type": "markdown",
   "metadata": {},
   "source": [
    "2903"
   ]
  },
  {
   "cell_type": "code",
   "execution_count": 23,
   "metadata": {},
   "outputs": [
    {
     "name": "stdout",
     "output_type": "stream",
     "text": [
      "25\n"
     ]
    }
   ],
   "source": [
    "N = int(input())\n",
    "length = 2**N + 1\n",
    "points = length**2\n",
    "print(points)\n",
    "\n",
    "# N = int(input())\n",
    "# n = 2\n",
    "# for i in range(N):\n",
    "#     n += 2 ** i\n",
    "# print(n**2)"
   ]
  },
  {
   "cell_type": "markdown",
   "metadata": {},
   "source": [
    "2292"
   ]
  },
  {
   "cell_type": "code",
   "execution_count": 44,
   "metadata": {},
   "outputs": [
    {
     "name": "stdout",
     "output_type": "stream",
     "text": [
      "4\n"
     ]
    }
   ],
   "source": [
    "N = int(input())\n",
    "\n",
    "if N == 1:\n",
    "    print(1)\n",
    "else:\n",
    "    layer = 1\n",
    "    rooms = 1\n",
    "\n",
    "    while N > rooms:\n",
    "        rooms += 6 * layer\n",
    "        layer += 1\n",
    "\n",
    "    print(layer)"
   ]
  },
  {
   "cell_type": "markdown",
   "metadata": {},
   "source": [
    "```pyth\n",
    "```"
   ]
  },
  {
   "cell_type": "markdown",
   "metadata": {},
   "source": [
    "10699"
   ]
  },
  {
   "cell_type": "code",
   "execution_count": 13,
   "metadata": {},
   "outputs": [
    {
     "name": "stdout",
     "output_type": "stream",
     "text": [
      "2024-09-12\n"
     ]
    }
   ],
   "source": [
    "from datetime import date\n",
    "\n",
    "print(date.today())"
   ]
  },
  {
   "cell_type": "markdown",
   "metadata": {},
   "source": [
    "7287"
   ]
  },
  {
   "cell_type": "code",
   "execution_count": 16,
   "metadata": {},
   "outputs": [
    {
     "name": "stdout",
     "output_type": "stream",
     "text": [
      "74\n",
      "kwon37954\n"
     ]
    }
   ],
   "source": [
    "print(\"74\")  # 이렇게간단한거였다니;\n",
    "print(\"kwon37954\")"
   ]
  },
  {
   "cell_type": "markdown",
   "metadata": {},
   "source": [
    "2420"
   ]
  },
  {
   "cell_type": "code",
   "execution_count": 17,
   "metadata": {},
   "outputs": [
    {
     "name": "stdout",
     "output_type": "stream",
     "text": [
      "7\n"
     ]
    }
   ],
   "source": [
    "N, M = map(int, input().split())\n",
    "print(abs(N - M))"
   ]
  },
  {
   "cell_type": "markdown",
   "metadata": {},
   "source": [
    "2741"
   ]
  },
  {
   "cell_type": "code",
   "execution_count": 18,
   "metadata": {},
   "outputs": [
    {
     "name": "stdout",
     "output_type": "stream",
     "text": [
      "1\n",
      "2\n",
      "3\n",
      "4\n",
      "5\n"
     ]
    }
   ],
   "source": [
    "N = int(input())\n",
    "for i in range(N):\n",
    "    print(i + 1)"
   ]
  },
  {
   "cell_type": "markdown",
   "metadata": {},
   "source": [
    "10872"
   ]
  },
  {
   "cell_type": "code",
   "execution_count": 7,
   "metadata": {},
   "outputs": [
    {
     "name": "stdout",
     "output_type": "stream",
     "text": [
      "6\n"
     ]
    }
   ],
   "source": [
    "N = int(input())\n",
    "result = 1\n",
    "for i in range(1, N + 1):\n",
    "    result *= i\n",
    "print(result)\n",
    "\n",
    "# import math\n",
    "# math.factorial(int(input())) # math 라이브러리 factorial 함수 사용\n",
    "\n",
    "# def f(n): return 1 if n < 2 else f(n-1)*n # 재귀함수 사용\n",
    "# print(f(int(input())))"
   ]
  },
  {
   "cell_type": "markdown",
   "metadata": {},
   "source": [
    "2744"
   ]
  },
  {
   "cell_type": "code",
   "execution_count": 8,
   "metadata": {},
   "outputs": [
    {
     "name": "stdout",
     "output_type": "stream",
     "text": [
      "wRONGaNSWER\n"
     ]
    }
   ],
   "source": [
    "print(input().swapcase())"
   ]
  },
  {
   "cell_type": "markdown",
   "metadata": {},
   "source": [
    "2754"
   ]
  },
  {
   "cell_type": "code",
   "execution_count": 9,
   "metadata": {},
   "outputs": [
    {
     "name": "stdout",
     "output_type": "stream",
     "text": [
      "4.0\n"
     ]
    }
   ],
   "source": [
    "score = {\n",
    "    \"A+\": 4.3,\n",
    "    \"A0\": 4.0,\n",
    "    \"A-\": 3.7,\n",
    "    \"B+\": 3.3,\n",
    "    \"B0\": 3.0,\n",
    "    \"B-\": 2.7,\n",
    "    \"C+\": 2.3,\n",
    "    \"C0\": 2.0,\n",
    "    \"C-\": 1.7,\n",
    "    \"D+\": 1.3,\n",
    "    \"D0\": 1.0,\n",
    "    \"D-\": 0.7,\n",
    "    \"F\": 0.0,\n",
    "}\n",
    "print(score[input()])"
   ]
  },
  {
   "cell_type": "markdown",
   "metadata": {},
   "source": [
    "15964"
   ]
  },
  {
   "cell_type": "code",
   "execution_count": 10,
   "metadata": {},
   "outputs": [
    {
     "name": "stdout",
     "output_type": "stream",
     "text": [
      "7\n"
     ]
    }
   ],
   "source": [
    "A, B = map(int, input().split())\n",
    "print((A + B) * (A - B))"
   ]
  },
  {
   "cell_type": "markdown",
   "metadata": {},
   "source": [
    "2475"
   ]
  },
  {
   "cell_type": "code",
   "execution_count": 20,
   "metadata": {},
   "outputs": [
    {
     "name": "stdout",
     "output_type": "stream",
     "text": [
      "1\n"
     ]
    }
   ],
   "source": [
    "nums = list(map(int, input().split()))\n",
    "result = sum([num**2 for num in nums])\n",
    "print(result % 10)"
   ]
  },
  {
   "cell_type": "markdown",
   "metadata": {},
   "source": [
    "31403"
   ]
  },
  {
   "cell_type": "code",
   "execution_count": 10,
   "metadata": {},
   "outputs": [
    {
     "name": "stdout",
     "output_type": "stream",
     "text": [
      "2\n",
      "29\n"
     ]
    }
   ],
   "source": [
    "A = input()\n",
    "B = input()\n",
    "C = input()\n",
    "\n",
    "print(int(A) + int(B) - int(C))\n",
    "print(int(A + B) - int(C))"
   ]
  },
  {
   "cell_type": "markdown",
   "metadata": {},
   "source": [
    "10250"
   ]
  },
  {
   "cell_type": "code",
   "execution_count": 15,
   "metadata": {},
   "outputs": [
    {
     "name": "stdout",
     "output_type": "stream",
     "text": [
      "402\n",
      "1203\n"
     ]
    }
   ],
   "source": [
    "T = int(input())\n",
    "\n",
    "for i in range(T):\n",
    "    H, W, N = map(int, input().split())\n",
    "\n",
    "    if N % H == 0:\n",
    "        print(f\"{H}{str(N//H).zfill(2)}\")\n",
    "    else:\n",
    "        print(f\"{N%H}{str((N//H)+1).zfill(2)}\")  # zfill 활용\n",
    "\n",
    "# T = int(input())\n",
    "\n",
    "# for i in range(T):\n",
    "#     H, W, N = map(int, input().split())\n",
    "\n",
    "#     floor = H if N % H == 0 else N % H\n",
    "#     room = (N // H) + 1\n",
    "\n",
    "#     print(f\"{floor}{str(room).zfill(2)}\")"
   ]
  },
  {
   "cell_type": "markdown",
   "metadata": {},
   "source": [
    "2577"
   ]
  },
  {
   "cell_type": "code",
   "execution_count": 22,
   "metadata": {},
   "outputs": [
    {
     "name": "stdout",
     "output_type": "stream",
     "text": [
      "3\n",
      "1\n",
      "0\n",
      "2\n",
      "0\n",
      "0\n",
      "0\n",
      "2\n",
      "0\n",
      "0\n"
     ]
    }
   ],
   "source": [
    "A = int(input())\n",
    "B = int(input())\n",
    "C = int(input())\n",
    "\n",
    "for i in range(10):\n",
    "    print(str(A * B * C).count(str(i)))\n",
    "\n",
    "# A = int(input()) * int(input()) * int(input())\n",
    "\n",
    "# for i in range(10):\n",
    "#     print(str(A).count(str(i)))"
   ]
  },
  {
   "cell_type": "markdown",
   "metadata": {},
   "source": [
    "8958"
   ]
  },
  {
   "cell_type": "code",
   "execution_count": 23,
   "metadata": {},
   "outputs": [
    {
     "name": "stdout",
     "output_type": "stream",
     "text": [
      "10\n",
      "9\n",
      "7\n",
      "55\n",
      "30\n"
     ]
    }
   ],
   "source": [
    "T = int(input())\n",
    "\n",
    "for i in range(T):\n",
    "    count = 0\n",
    "    for c in input().split(\"X\"):\n",
    "        length = len(c)\n",
    "        if length > 1:\n",
    "            count += length * (length + 1) // 2\n",
    "        elif length == 1:\n",
    "            count += 1\n",
    "    print(count)\n",
    "\n",
    "# T = int(input())  # 테스트 케이스의 수 입력\n",
    "\n",
    "# for _ in range(T):\n",
    "#     result = input()  # OX 퀴즈 결과 문자열 입력\n",
    "#     score = 0\n",
    "#     current_score = 0\n",
    "\n",
    "#     for char in result:\n",
    "#         if char == 'O':\n",
    "#             current_score += 1  # O가 연속되면 점수를 누적\n",
    "#             score += current_score  # 총 점수에 추가\n",
    "#         else:\n",
    "#             current_score = 0  # X가 나오면 연속 점수 리셋\n",
    "\n",
    "#     print(score)"
   ]
  },
  {
   "cell_type": "markdown",
   "metadata": {},
   "source": [
    "2920"
   ]
  },
  {
   "cell_type": "code",
   "execution_count": 29,
   "metadata": {},
   "outputs": [
    {
     "name": "stdout",
     "output_type": "stream",
     "text": [
      "mixed\n"
     ]
    }
   ],
   "source": [
    "lst = list(map(int, input().split()))\n",
    "\n",
    "if lst == sorted(lst):\n",
    "    print(\"ascending\")\n",
    "elif lst == sorted(lst, reverse=True):\n",
    "    print(\"descending\")\n",
    "else:\n",
    "    print(\"mixed\")"
   ]
  },
  {
   "cell_type": "markdown",
   "metadata": {},
   "source": [
    "1193"
   ]
  },
  {
   "cell_type": "code",
   "execution_count": 45,
   "metadata": {},
   "outputs": [
    {
     "name": "stdout",
     "output_type": "stream",
     "text": [
      "4\n",
      "8 10 4\n",
      "2/3\n"
     ]
    }
   ],
   "source": [
    "X = int(input())\n",
    "n, i = 0, 1\n",
    "\n",
    "while True:\n",
    "    n += i\n",
    "    if X <= n:\n",
    "        break\n",
    "    i += 1\n",
    "\n",
    "position = X - (n - i)\n",
    "\n",
    "if i % 2 == 0:\n",
    "    a, b = position, i - position + 1\n",
    "else:\n",
    "    a, b = i - position + 1, position\n",
    "\n",
    "print(f\"{a}/{b}\")\n",
    "\n",
    "# X = int(input())\n",
    "# n, i = 0, 1\n",
    "\n",
    "# while True:\n",
    "#     n += i\n",
    "#     if X <= n:\n",
    "#         break\n",
    "#     i += 1\n",
    "\n",
    "# if i % 2 == 0:\n",
    "#     a, b = 1, i\n",
    "#     for k in range(1, X - (n - i)):\n",
    "#         a += 1\n",
    "#         b -= 1\n",
    "# else:\n",
    "#     a, b = i, 1\n",
    "#     for k in range(1, X - (n - i)):\n",
    "#         a -= 1\n",
    "#         b += 1\n",
    "\n",
    "# print(f\"{a}/{b}\")"
   ]
  },
  {
   "cell_type": "markdown",
   "metadata": {},
   "source": [
    "4153"
   ]
  },
  {
   "cell_type": "code",
   "execution_count": 50,
   "metadata": {},
   "outputs": [
    {
     "name": "stdout",
     "output_type": "stream",
     "text": [
      "right\n",
      "wrong\n",
      "right\n",
      "0 0 0\n"
     ]
    }
   ],
   "source": [
    "while True:\n",
    "    sides = list(map(int, input().split()))\n",
    "    if sides[0] == 0:\n",
    "        break\n",
    "    sides.sort()\n",
    "    if sides[2] ** 2 == (sides[0] ** 2) + (sides[1] ** 2):\n",
    "        print(\"right\")\n",
    "    else:\n",
    "        print(\"wrong\")\n",
    "\n",
    "# while True:\n",
    "#     a, b, c = map(int, input().split())\n",
    "\n",
    "#     if a == 0:\n",
    "#         break\n",
    "\n",
    "#     if a > b and a > c:\n",
    "#         if a**2 == (b**2) + (c**2):\n",
    "#             print(\"right\")\n",
    "#         else:\n",
    "#             print(\"wrong\")\n",
    "#     if b > a and b > c:\n",
    "#         if b**2 == (a**2) + (c**2):\n",
    "#             print(\"right\")\n",
    "#         else:\n",
    "#             print(\"wrong\")\n",
    "#     if c > a and c > b:\n",
    "#         if c**2 == (a**2) + (b**2):\n",
    "#             print(\"right\")\n",
    "#         else:\n",
    "#             print(\"wrong\")"
   ]
  },
  {
   "cell_type": "markdown",
   "metadata": {},
   "source": [
    "2869"
   ]
  },
  {
   "cell_type": "code",
   "execution_count": 14,
   "metadata": {},
   "outputs": [
    {
     "name": "stdout",
     "output_type": "stream",
     "text": [
      "4\n"
     ]
    }
   ],
   "source": [
    "A, B, V = map(int, input().split())\n",
    "total_distance = V - A\n",
    "day_distance = A - B\n",
    "days = 1 + len(range(0, total_distance, day_distance))\n",
    "print(days)"
   ]
  },
  {
   "cell_type": "markdown",
   "metadata": {},
   "source": [
    "30802"
   ]
  },
  {
   "cell_type": "code",
   "execution_count": 21,
   "metadata": {},
   "outputs": [
    {
     "name": "stdout",
     "output_type": "stream",
     "text": [
      "7\n",
      "3 2\n"
     ]
    }
   ],
   "source": [
    "N = int(input())\n",
    "sizes = list(map(int, input().split()))\n",
    "T, P = map(int, input().split())\n",
    "\n",
    "tshirts = sum((size // T) + 1 if size % T != 0 else size // T for size in sizes)\n",
    "bundle, each = N // P, N % P\n",
    "\n",
    "print(tshirts)\n",
    "print(bundle, each)"
   ]
  },
  {
   "cell_type": "markdown",
   "metadata": {},
   "source": [
    "1978"
   ]
  },
  {
   "cell_type": "code",
   "execution_count": 14,
   "metadata": {},
   "outputs": [
    {
     "name": "stdout",
     "output_type": "stream",
     "text": [
      "3\n"
     ]
    }
   ],
   "source": [
    "N = int(input())\n",
    "nums = map(int, input().split())\n",
    "result = 0\n",
    "\n",
    "for num in nums:\n",
    "    if num == 1:\n",
    "        continue\n",
    "    for i in range(2, int(num**0.5) + 1):\n",
    "        if num % i == 0:\n",
    "            break\n",
    "    else:\n",
    "        result += 1  # for, while 반복문이 정상적으로 완료되었을 때(break로 중간에 종료되지 않았을 때) else 블록 실행\n",
    "\n",
    "print(result)\n",
    "\n",
    "# for i in range(2, 10): # for else 예시\n",
    "#     if i % 2 == 0:\n",
    "#         print(f\"{i}는 짝수입니다.\")\n",
    "#         break\n",
    "# else:\n",
    "#     print(\"모든 숫자는 홀수입니다.\")"
   ]
  },
  {
   "cell_type": "markdown",
   "metadata": {},
   "source": [
    "2231"
   ]
  },
  {
   "cell_type": "code",
   "execution_count": 30,
   "metadata": {},
   "outputs": [
    {
     "name": "stdout",
     "output_type": "stream",
     "text": [
      "3\n"
     ]
    }
   ],
   "source": [
    "N = int(input())\n",
    "start = max(1, N - (9 * len(str(N))))  # N 이 한 자리 수일 때는 1\n",
    "\n",
    "for i in range(start, N):\n",
    "    generator_sum = i + sum(map(int, str(i)))\n",
    "    if generator_sum == N:\n",
    "        print(i)\n",
    "        break\n",
    "else:\n",
    "    print(0)"
   ]
  },
  {
   "cell_type": "markdown",
   "metadata": {},
   "source": [
    "2798"
   ]
  },
  {
   "cell_type": "code",
   "execution_count": 19,
   "metadata": {},
   "outputs": [
    {
     "name": "stdout",
     "output_type": "stream",
     "text": [
      "21\n"
     ]
    }
   ],
   "source": [
    "N, M = map(int, input().split())\n",
    "cards = list(map(int, input().split()))\n",
    "result = 0\n",
    "\n",
    "for i in range(N - 2):  # 브루트포스\n",
    "    for j in range(i + 1, N - 1):\n",
    "        for k in range(j + 1, N):\n",
    "            current_sum = cards[i] + cards[j] + cards[k]\n",
    "            if current_sum <= M:\n",
    "                result = max(result, current_sum)\n",
    "\n",
    "print(result)\n",
    "\n",
    "# N, M = map(int, input().split())\n",
    "# cards = list(map(int, input().split()))\n",
    "# result = []\n",
    "\n",
    "# for i in range(N - 2):\n",
    "#     for j in range(i + 1, N - 1):\n",
    "#         for k in range(j + 1, N):\n",
    "#             current_sum = cards[i] + cards[j] + cards[k]\n",
    "#             if current_sum <= M:\n",
    "#                 result.append(current_sum)\n",
    "\n",
    "# print(max(result))"
   ]
  },
  {
   "cell_type": "markdown",
   "metadata": {},
   "source": [
    "15829"
   ]
  },
  {
   "cell_type": "code",
   "execution_count": 1,
   "metadata": {},
   "outputs": [
    {
     "name": "stdout",
     "output_type": "stream",
     "text": [
      "4739715\n"
     ]
    }
   ],
   "source": [
    "l = int(input())\n",
    "s = input()\n",
    "r = 31\n",
    "m = 1234567891\n",
    "hash_value = 0\n",
    "\n",
    "for i in range(l):\n",
    "    a = ord(s[i]) - ord(\"a\") + 1  # ord : 문자의 유니코드 번호 반환\n",
    "    hash_value += a * (r**i)\n",
    "hash_value %= m\n",
    "\n",
    "print(hash_value)\n",
    "\n",
    "# l = int(input())\n",
    "# s = input()\n",
    "# d = {}\n",
    "# index = 1\n",
    "\n",
    "# for i in \"abcdefghijklmnopqrstuvwxyz\":\n",
    "#     d[i] = index\n",
    "#     index += 1\n",
    "\n",
    "# hash_value = sum([d[s[i]] * (31**i) for i in range(l)]) % 1234567891\n",
    "\n",
    "# print(hash_value)"
   ]
  },
  {
   "cell_type": "markdown",
   "metadata": {},
   "source": [
    "1259"
   ]
  },
  {
   "cell_type": "code",
   "execution_count": 2,
   "metadata": {},
   "outputs": [
    {
     "name": "stdout",
     "output_type": "stream",
     "text": [
      "yes\n",
      "no\n",
      "yes\n"
     ]
    }
   ],
   "source": [
    "while True:\n",
    "    n = input()\n",
    "    if n == \"0\":\n",
    "        break\n",
    "    if n[:] == n[::-1]:\n",
    "        print(\"yes\")\n",
    "    else:\n",
    "        print(\"no\")"
   ]
  },
  {
   "cell_type": "markdown",
   "metadata": {},
   "source": [
    "2609"
   ]
  },
  {
   "cell_type": "code",
   "execution_count": 9,
   "metadata": {},
   "outputs": [
    {
     "name": "stdout",
     "output_type": "stream",
     "text": [
      "6\n",
      "72\n"
     ]
    }
   ],
   "source": [
    "n, m = map(int, input().split())\n",
    "\n",
    "\n",
    "def gcd(a, b):  # 최대공약수\n",
    "    while b != 0:\n",
    "        a, b = b, a % b\n",
    "    return a\n",
    "\n",
    "\n",
    "def lcm(a, b):  # 최소공배수\n",
    "    return (a * b) // gcd(a, b)\n",
    "\n",
    "\n",
    "print(gcd(n, m), lcm(n, m), sep=\"\\n\")\n",
    "\n",
    "# math 라이브러리 사용\n",
    "# import math\n",
    "\n",
    "# a, b = map(int, input().split())\n",
    "# print(math.gcd(a, b), math.lcm(a, b), sep=\"\\n\")"
   ]
  },
  {
   "cell_type": "markdown",
   "metadata": {},
   "source": [
    "2775"
   ]
  },
  {
   "cell_type": "code",
   "execution_count": 16,
   "metadata": {},
   "outputs": [
    {
     "name": "stdout",
     "output_type": "stream",
     "text": [
      "6\n",
      "10\n"
     ]
    }
   ],
   "source": [
    "t = int(input())\n",
    "\n",
    "for _ in range(t):\n",
    "    k = int(input())\n",
    "    n = int(input())\n",
    "\n",
    "    people = [i for i in range(1, n + 1)]\n",
    "\n",
    "    for _ in range(k):\n",
    "        for j in range(1, n):\n",
    "            people[j] += people[j - 1]\n",
    "\n",
    "    print(people[-1])"
   ]
  },
  {
   "cell_type": "markdown",
   "metadata": {},
   "source": [
    "10989"
   ]
  },
  {
   "cell_type": "code",
   "execution_count": 1,
   "metadata": {},
   "outputs": [],
   "source": [
    "import sys\n",
    "\n",
    "count = [0] * 10001\n",
    "n = int(input())\n",
    "\n",
    "for _ in range(n):\n",
    "    m = int(sys.stdin.readline())\n",
    "    count[m] += 1\n",
    "\n",
    "for i in range(1, 10001):\n",
    "    if count[i] > 0:\n",
    "        for _ in range(count[i]):\n",
    "            print(i)"
   ]
  },
  {
   "cell_type": "markdown",
   "metadata": {},
   "source": [
    "11050"
   ]
  },
  {
   "cell_type": "code",
   "execution_count": 2,
   "metadata": {},
   "outputs": [
    {
     "name": "stdout",
     "output_type": "stream",
     "text": [
      "10\n"
     ]
    }
   ],
   "source": [
    "import math\n",
    "a, b = map(int, input().split())\n",
    "print(math.comb(a,b))"
   ]
  },
  {
   "cell_type": "markdown",
   "metadata": {},
   "source": [
    "28702"
   ]
  },
  {
   "cell_type": "code",
   "execution_count": 12,
   "metadata": {},
   "outputs": [
    {
     "name": "stdout",
     "output_type": "stream",
     "text": [
      "980806\n"
     ]
    }
   ],
   "source": [
    "str_list = []\n",
    "\n",
    "for _ in range(3):\n",
    "    str_list.append(input())\n",
    "\n",
    "for s in str_list:\n",
    "    if s.isdigit():\n",
    "        result = int(s) + 3 - str_list.index(s)\n",
    "        if result % 15 == 0:\n",
    "            print(\"FizzBuzz\")\n",
    "        elif result % 3 == 0:\n",
    "            print(\"Fizz\")\n",
    "        elif result % 5 == 0:\n",
    "            print(\"Buzz\")\n",
    "        else:\n",
    "            print(result)\n",
    "        break"
   ]
  },
  {
   "cell_type": "markdown",
   "metadata": {},
   "source": [
    "1181"
   ]
  },
  {
   "cell_type": "code",
   "execution_count": 7,
   "metadata": {},
   "outputs": [
    {
     "name": "stdout",
     "output_type": "stream",
     "text": [
      "i\n",
      "im\n",
      "it\n",
      "no\n",
      "but\n",
      "more\n",
      "wait\n",
      "wont\n",
      "yours\n",
      "cannot\n",
      "hesitate\n"
     ]
    }
   ],
   "source": [
    "n = int(input())\n",
    "\n",
    "words = list(set(input() for _ in range(n)))\n",
    "\n",
    "words.sort(key=lambda x: (len(x), x)) # 튜플을 사용한 다중 기준\n",
    "\n",
    "for word in words:\n",
    "    print(word)"
   ]
  },
  {
   "cell_type": "markdown",
   "metadata": {},
   "source": [
    "1436"
   ]
  },
  {
   "cell_type": "code",
   "execution_count": 10,
   "metadata": {},
   "outputs": [
    {
     "name": "stdout",
     "output_type": "stream",
     "text": [
      "166699\n"
     ]
    }
   ],
   "source": [
    "n = int(input())\n",
    "count = 0\n",
    "title = 666\n",
    "\n",
    "while True:\n",
    "    if \"666\" in str(title):\n",
    "        count += 1\n",
    "    if count == n:\n",
    "        print(title)\n",
    "        break\n",
    "    title += 1"
   ]
  },
  {
   "cell_type": "markdown",
   "metadata": {},
   "source": [
    "1676"
   ]
  },
  {
   "cell_type": "code",
   "execution_count": 7,
   "metadata": {},
   "outputs": [
    {
     "name": "stdout",
     "output_type": "stream",
     "text": [
      "0\n"
     ]
    }
   ],
   "source": [
    "import math\n",
    "\n",
    "n = int(input())\n",
    "f = math.factorial(n)\n",
    "length = len(str(f))\n",
    "count = 0\n",
    "\n",
    "for i in range(-1, -length, -1):\n",
    "    if str(f)[i] == \"0\":\n",
    "        count += 1\n",
    "    else:\n",
    "        break\n",
    "\n",
    "print(count)\n",
    "\n",
    "# n = int(input()) # 5의 개수만큼 0 발생, 25, 125 등은 2개, 3개씩 0이 발생함\n",
    "\n",
    "# count = 0\n",
    "# i = 5\n",
    "# while n // i > 0:\n",
    "#     count += n // i\n",
    "#     i *= 5\n",
    "\n",
    "# print(count)"
   ]
  },
  {
   "cell_type": "markdown",
   "metadata": {},
   "source": [
    "2751"
   ]
  },
  {
   "cell_type": "code",
   "execution_count": 12,
   "metadata": {},
   "outputs": [],
   "source": [
    "import sys\n",
    "\n",
    "n = int(sys.stdin.readline())  # 빠른 입력이 필요할 때 사용\n",
    "numbers = [int(sys.stdin.readline()) for _ in range(n)]\n",
    "\n",
    "numbers.sort()\n",
    "\n",
    "for i in numbers:\n",
    "    print(i)\n"
   ]
  },
  {
   "cell_type": "markdown",
   "metadata": {},
   "source": [
    "7568"
   ]
  },
  {
   "cell_type": "code",
   "execution_count": 5,
   "metadata": {},
   "outputs": [
    {
     "data": {
      "text/plain": [
       "[1, 1, 0, 1, 4]"
      ]
     },
     "execution_count": 5,
     "metadata": {},
     "output_type": "execute_result"
    }
   ],
   "source": [
    "n = int(input())\n",
    "people = []\n",
    "rank = [1] * n\n",
    "\n",
    "for i in range(n):\n",
    "    x, y = map(int, input().split())\n",
    "    people.append((x, y))\n",
    "\n",
    "for i in range(len(people) - 1):\n",
    "    for j in range(i + 1, len(people)):\n",
    "        if people[i][0] < people[j][0] and people[i][1] < people[j][1]:\n",
    "            rank[i] += 1\n",
    "        elif people[i][0] > people[j][0] and people[i][1] > people[j][1]:\n",
    "            rank[j] += 1\n",
    "\n",
    "for i in rank:\n",
    "    print(i, end=\" \")\n"
   ]
  },
  {
   "cell_type": "markdown",
   "metadata": {},
   "source": [
    "10814"
   ]
  },
  {
   "cell_type": "code",
   "execution_count": 8,
   "metadata": {},
   "outputs": [
    {
     "name": "stdout",
     "output_type": "stream",
     "text": [
      "20 sunyoung\n",
      "21 jungku\n",
      "21 dohyun\n"
     ]
    }
   ],
   "source": [
    "# n = int(input())\n",
    "# users = []\n",
    "\n",
    "# for i in range(n):\n",
    "#     age, name = input().split()\n",
    "#     users.append((age, name))\n",
    "\n",
    "# users.sort(key=lambda x: int(x[0]))\n",
    "\n",
    "# for user in users:\n",
    "#     print(\" \".join(user))\n",
    "\n",
    "import sys\n",
    "\n",
    "n = int(sys.stdin.readline())\n",
    "users = []\n",
    "\n",
    "for i in range(n):\n",
    "    age, name = sys.stdin.readline().split()\n",
    "    users.append((int(age), name))\n",
    "\n",
    "users.sort(key=lambda x: x[0])  # 튜플의 첫 요소만 이용해서 정렬\n",
    "\n",
    "for user in users:\n",
    "    sys.stdout.write(f\"{user[0]} {user[1]}\\n\")\n"
   ]
  },
  {
   "cell_type": "markdown",
   "metadata": {},
   "source": [
    "11650"
   ]
  },
  {
   "cell_type": "code",
   "execution_count": 3,
   "metadata": {},
   "outputs": [
    {
     "name": "stdout",
     "output_type": "stream",
     "text": [
      "1 -1\n",
      "1 1\n",
      "2 2\n",
      "3 3\n",
      "3 4\n"
     ]
    }
   ],
   "source": [
    "n = int(input())\n",
    "\n",
    "loc = [tuple(map(int, input().split())) for _ in range(n)]\n",
    "\n",
    "loc.sort()\n",
    "\n",
    "for x, y in loc:\n",
    "    print(x, y)"
   ]
  },
  {
   "cell_type": "markdown",
   "metadata": {},
   "source": [
    "11651"
   ]
  },
  {
   "cell_type": "code",
   "execution_count": 5,
   "metadata": {},
   "outputs": [
    {
     "name": "stdout",
     "output_type": "stream",
     "text": [
      "1 -1\n",
      "1 2\n",
      "2 2\n",
      "3 3\n",
      "0 4\n"
     ]
    }
   ],
   "source": [
    "# n = int(input())\n",
    "# loc = []\n",
    "\n",
    "# for _ in range(n):\n",
    "#     x, y = map(int, input().split())\n",
    "#     loc.append((y,x))\n",
    "\n",
    "# loc.sort()\n",
    "\n",
    "# for x, y in loc:\n",
    "#     print(y, x)\n",
    "\n",
    "n = int(input())\n",
    "loc = [tuple(map(int, input().split())) for _ in range(n)]\n",
    "\n",
    "loc.sort(key=lambda x: (x[1], x[0])) # y먼저 정렬 후 y가 같을 경우 x정렬\n",
    "\n",
    "for x, y in loc:\n",
    "    print(x, y)"
   ]
  },
  {
   "cell_type": "markdown",
   "metadata": {},
   "source": [
    "1018"
   ]
  },
  {
   "cell_type": "code",
   "execution_count": 8,
   "metadata": {},
   "outputs": [
    {
     "name": "stdout",
     "output_type": "stream",
     "text": [
      "1\n"
     ]
    }
   ],
   "source": [
    "m, n = map(int, input().split())\n",
    "board = [input() for _ in range(m)]\n",
    "pattern1 = [\"WBWBWBWB\", \"BWBWBWBW\"] * 4\n",
    "pattern2 = [\"BWBWBWBW\", \"WBWBWBWB\"] * 4\n",
    "reprint = 64\n",
    "\n",
    "for i in range(m - 7):\n",
    "    for j in range(n - 7):\n",
    "        count1 = 0\n",
    "        count2 = 0\n",
    "        for x in range(8):\n",
    "            for y in range(8):\n",
    "                if board[i + x][j + y] != pattern1[x][y]:\n",
    "                    count1 += 1\n",
    "                if board[i + x][j + y] != pattern2[x][y]:\n",
    "                    count2 += 1\n",
    "        reprint = min(reprint, count1, count2)\n",
    "\n",
    "print(reprint)"
   ]
  },
  {
   "cell_type": "markdown",
   "metadata": {},
   "source": [
    "1920"
   ]
  },
  {
   "cell_type": "code",
   "execution_count": 2,
   "metadata": {},
   "outputs": [
    {
     "name": "stdout",
     "output_type": "stream",
     "text": [
      "1\n",
      "1\n",
      "0\n",
      "0\n",
      "1\n"
     ]
    }
   ],
   "source": [
    "n = int(input())\n",
    "n_set = set(map(int, input().split()))\n",
    "m = int(input())\n",
    "m_list = list(map(int, input().split()))\n",
    "\n",
    "for num in m_list:\n",
    "    if num in n_set:\n",
    "        print(1)\n",
    "    else:\n",
    "        print(0)"
   ]
  }
 ],
 "metadata": {
  "kernelspec": {
   "display_name": "Python 3",
   "language": "python",
   "name": "python3"
  },
  "language_info": {
   "codemirror_mode": {
    "name": "ipython",
    "version": 3
   },
   "file_extension": ".py",
   "mimetype": "text/x-python",
   "name": "python",
   "nbconvert_exporter": "python",
   "pygments_lexer": "ipython3",
   "version": "3.10.8"
  }
 },
 "nbformat": 4,
 "nbformat_minor": 2
}
